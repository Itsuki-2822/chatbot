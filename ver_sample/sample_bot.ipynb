{
 "cells": [
  {
   "cell_type": "code",
   "execution_count": 1,
   "metadata": {},
   "outputs": [
    {
     "name": "stdout",
     "output_type": "stream",
     "text": [
      "Note: you may need to restart the kernel to use updated packages.\n"
     ]
    }
   ],
   "source": [
    "%pip install -r requirements.txt -q"
   ]
  },
  {
   "cell_type": "code",
   "execution_count": 4,
   "metadata": {},
   "outputs": [],
   "source": [
    "from dotenv import load_dotenv\n",
    "import os\n",
    "\n",
    "load_dotenv()\n",
    "api_key = os.getenv('API_KEY')\n",
    "os.environ[\"OPENAI_API_KEY\"] = api_key"
   ]
  },
  {
   "cell_type": "code",
   "execution_count": 11,
   "metadata": {},
   "outputs": [
    {
     "name": "stdout",
     "output_type": "stream",
     "text": [
      "Answer: この人はデータサイエンスに情熱を注いでおり、機械学習のモデルを作成し、データから新たな洞察を引き出すことに取り組んでいます。特に、予測モデリングとデータ分析が得意であり、常に新しい技術を学び、それを活用して課題を解決することを目指しています。プログラミングや読書が趣味で、新しい知識を吸収することが大好きです。将来もデータの世界で新たな価値を生み出すために努力していく意向です。\n",
      "['Source Document: 初\\nめ\\nま\\nし\\nて！\\nデー\\nタ\\nサ\\nイ\\nエ\\nン\\nス\\nに\\n情\\n熱\\nを\\n注\\nい\\nで\\nい\\nる\\n者\\nで\\nす。\\n機\\n械\\n学\\n習\\nの\\nモ\\nデ\\nル\\nを\\n作\\n成\\nし、\\nデー\\nタ\\nか\\nら\\n新\\nた\\nな\\n洞\\n察\\nを\\n引\\nき\\n出\\nす\\nこ\\nと\\nに\\n日々\\n取\\nり\\n組\\nん\\nで\\nい\\nま\\nす。\\n特\\nに、\\n予\\n測\\nモ\\nデ\\nリ\\nン\\nグ\\nと\\nデー\\nタ\\n分\\n析\\nが\\n得\\n意\\nで\\nす。\\nプ\\nロ\\nジェ\\nク\\nト\\nで\\nは、\\n常\\nに\\n新\\nし\\nい\\n技\\n...']\n"
     ]
    }
   ],
   "source": [
    "import os\n",
    "import requests\n",
    "from io import BytesIO\n",
    "from tempfile import NamedTemporaryFile\n",
    "from langchain.document_loaders import PyPDFLoader\n",
    "from langchain_openai import ChatOpenAI, OpenAIEmbeddings\n",
    "from langchain.vectorstores import FAISS\n",
    "from langchain.chains import RetrievalQA\n",
    "\n",
    "def extract_text_from_pdf(file_path):\n",
    "    \"\"\"Extract text from a PDF file.\"\"\"\n",
    "    pdf_loader = PyPDFLoader(file_path)\n",
    "    documents = pdf_loader.load()\n",
    "    #os.remove(file_path)  # Remove the file if it's temporarily stored\n",
    "    return documents\n",
    "\n",
    "def setup_retrieval_chain(documents):\n",
    "    \"\"\"Set up the retrieval chain using documents.\"\"\"\n",
    "    embeddings = OpenAIEmbeddings()\n",
    "    vectorstore = FAISS.from_documents(documents, embeddings)\n",
    "    vectorstore.save_local(\"faiss_index\")\n",
    "    retriever = vectorstore.as_retriever(search_type=\"similarity\", search_kwargs={\"k\": 5})\n",
    "\n",
    "    retrieval_qa = RetrievalQA.from_chain_type(\n",
    "        llm=ChatOpenAI(model=\"gpt-3.5-turbo\"),\n",
    "        chain_type=\"refine\",\n",
    "        retriever=retriever,\n",
    "        return_source_documents=True\n",
    "    )\n",
    "    return retrieval_qa\n",
    "\n",
    "\n",
    "def ask_question(retrieval_qa, question):\n",
    "    \"\"\"Ask a question and retrieve answers.\"\"\"\n",
    "    result = retrieval_qa.invoke({\"query\": question})\n",
    "    print(\"Answer:\", result['result'])\n",
    "\n",
    "    source_docs_excerpts = [\n",
    "        \"Source Document: \" + doc.page_content[:200] + \"...\" for doc in result['source_documents']\n",
    "    ]\n",
    "    print(source_docs_excerpts)\n",
    "\n",
    "if __name__ == \"__main__\":\n",
    "    pdf_file_path = '/Users/mira/VScode/chatbot/data/sample.pdf'\n",
    "    os.environ[\"OPENAI_API_KEY\"] = api_key\n",
    "\n",
    "    documents = extract_text_from_pdf(pdf_file_path)\n",
    "    retrieval_qa = setup_retrieval_chain(documents)\n",
    "    question = \"この人は何をしている人ですか？\"\n",
    "    ask_question(retrieval_qa, question)\n"
   ]
  },
  {
   "cell_type": "code",
   "execution_count": null,
   "metadata": {},
   "outputs": [],
   "source": []
  }
 ],
 "metadata": {
  "kernelspec": {
   "display_name": ".venv",
   "language": "python",
   "name": "python3"
  },
  "language_info": {
   "codemirror_mode": {
    "name": "ipython",
    "version": 3
   },
   "file_extension": ".py",
   "mimetype": "text/x-python",
   "name": "python",
   "nbconvert_exporter": "python",
   "pygments_lexer": "ipython3",
   "version": "3.12.4"
  }
 },
 "nbformat": 4,
 "nbformat_minor": 2
}

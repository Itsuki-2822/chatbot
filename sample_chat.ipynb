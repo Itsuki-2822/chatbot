{
 "cells": [
  {
   "cell_type": "code",
   "execution_count": 1,
   "metadata": {},
   "outputs": [
    {
     "name": "stdout",
     "output_type": "stream",
     "text": [
      "\n",
      "\u001b[1m[\u001b[0m\u001b[34;49mnotice\u001b[0m\u001b[1;39;49m]\u001b[0m\u001b[39;49m A new release of pip is available: \u001b[0m\u001b[31;49m24.1.2\u001b[0m\u001b[39;49m -> \u001b[0m\u001b[32;49m24.2\u001b[0m\n",
      "\u001b[1m[\u001b[0m\u001b[34;49mnotice\u001b[0m\u001b[1;39;49m]\u001b[0m\u001b[39;49m To update, run: \u001b[0m\u001b[32;49m/Library/Developer/CommandLineTools/usr/bin/python3 -m pip install --upgrade pip\u001b[0m\n",
      "Note: you may need to restart the kernel to use updated packages.\n"
     ]
    }
   ],
   "source": [
    "%pip install -r requirements.txt -q"
   ]
  },
  {
   "cell_type": "code",
   "execution_count": 2,
   "metadata": {},
   "outputs": [
    {
     "name": "stderr",
     "output_type": "stream",
     "text": [
      "/Users/ito_itsuki/Library/Python/3.9/lib/python/site-packages/urllib3/__init__.py:35: NotOpenSSLWarning: urllib3 v2 only supports OpenSSL 1.1.1+, currently the 'ssl' module is compiled with 'LibreSSL 2.8.3'. See: https://github.com/urllib3/urllib3/issues/3020\n",
      "  warnings.warn(\n",
      "/Users/ito_itsuki/Library/Python/3.9/lib/python/site-packages/pinecone/data/index.py:1: TqdmWarning: IProgress not found. Please update jupyter and ipywidgets. See https://ipywidgets.readthedocs.io/en/stable/user_install.html\n",
      "  from tqdm.autonotebook import tqdm\n"
     ]
    }
   ],
   "source": [
    "import os\n",
    "import urllib.request\n",
    "import pandas as pd\n",
    "from dotenv import load_dotenv\n",
    "from pinecone import Pinecone\n",
    "\n",
    "from langchain.embeddings.openai import OpenAIEmbeddings\n",
    "from langchain.vectorstores import Pinecone as PineconeStore\n",
    "from langchain.chains import RetrievalQA\n",
    "from langchain_openai import ChatOpenAI\n",
    "from langchain_pinecone import PineconeVectorStore\n",
    "from langchain_openai import OpenAIEmbeddings\n",
    "from langchain_openai import ChatOpenAI  \n",
    "from langchain.chains import RetrievalQA  "
   ]
  },
  {
   "cell_type": "code",
   "execution_count": 3,
   "metadata": {},
   "outputs": [],
   "source": [
    "load_dotenv()\n",
    "openai_api_key = os.getenv('OPENAI_API_KEY')\n",
    "os.environ[\"OPENAI_API_KEY\"] = openai_api_key\n",
    "\n",
    "pinecone_api_key = os.getenv('PINECONE_API_KEY')\n",
    "os.environ[\"PINECONE_API_KEY\"] = pinecone_api_key"
   ]
  },
  {
   "cell_type": "code",
   "execution_count": 4,
   "metadata": {},
   "outputs": [
    {
     "name": "stderr",
     "output_type": "stream",
     "text": [
      "2024-08-20 18:08:54.468 \n",
      "  \u001b[33m\u001b[1mWarning:\u001b[0m to view this Streamlit app on a browser, run it with the following\n",
      "  command:\n",
      "\n",
      "    streamlit run /Users/ito_itsuki/Library/Python/3.9/lib/python/site-packages/ipykernel_launcher.py [ARGUMENTS]\n",
      "2024-08-20 18:08:54.469 Session state does not function when running a script without `streamlit run`\n"
     ]
    }
   ],
   "source": [
    "import streamlit as st\n",
    "\n",
    "# 環境変数の読み込み\n",
    "load_dotenv()\n",
    "openai_api_key = os.getenv('OPENAI_API_KEY')\n",
    "pinecone_api_key = os.getenv('PINECONE_API_KEY')\n",
    "\n",
    "# CSVファイルを読み込み、列名を指定\n",
    "def load_data(filepath):\n",
    "    return pd.read_csv(filepath, header=None, names=['text', 'Category'])\n",
    "\n",
    "# テキストデータをベクトル化\n",
    "def vectorize_text(df, embeddings):\n",
    "    df['vectorized'] = df['text'].apply(lambda x: embeddings.embed_query(x))\n",
    "    return df\n",
    "\n",
    "# ベクトルデータをDataFrameに展開\n",
    "def expand_vectors(df):\n",
    "    vectorized_df = pd.DataFrame(df['vectorized'].tolist(), index=df.index)\n",
    "    return pd.concat([df.drop(columns=['vectorized']), vectorized_df], axis=1)\n",
    "\n",
    "# Pineconeにデータをアップロード\n",
    "def upload_to_pinecone(index, output_df):\n",
    "    original_texts = output_df.iloc[:, 0]\n",
    "    original_category = output_df.iloc[:, 1]\n",
    "    vectorized_data_only = output_df.iloc[:, 2:]\n",
    "\n",
    "    for i in range(len(vectorized_data_only)):\n",
    "        index.upsert(\n",
    "            vectors=[\n",
    "                {\n",
    "                    'id': str(i + 1),\n",
    "                    'values': vectorized_data_only.iloc[i].tolist(),\n",
    "                    'metadata': {\"text\": original_texts[i], \"Category\": original_category[i]}\n",
    "                }\n",
    "            ]\n",
    "        )\n",
    "\n",
    "# PineconeVectorStoreの初期化\n",
    "def initialize_vector_store(index_name, embeddings, pinecone_api_key):\n",
    "    return PineconeVectorStore(index_name=index_name, embedding=embeddings, pinecone_api_key=pinecone_api_key)\n",
    "\n",
    "# 質問応答システムのセットアップ\n",
    "def setup_qa_system(vectorstore):\n",
    "    llm = ChatOpenAI(model_name='gpt-3.5-turbo', temperature=0.0)\n",
    "    return RetrievalQA.from_chain_type(llm=llm, chain_type=\"stuff\", retriever=vectorstore.as_retriever())\n",
    "\n",
    "# Streamlitインターフェースの設定\n",
    "def main():\n",
    "    st.title(\"Chatbot Interface with Pinecone and OpenAI\")\n",
    "    \n",
    "    query = st.text_input(\"質問を入力してください:\")\n",
    "    \n",
    "    if query:\n",
    "        filepath = '/Users/ito_itsuki/Documents/python_env/chatbot/data/my_profile.csv'\n",
    "        index_name = 'sample-db'\n",
    "        \n",
    "        df = load_data(filepath)\n",
    "        \n",
    "        # ベクトル化と展開\n",
    "        embeddings = OpenAIEmbeddings()\n",
    "        vectorized_df = expand_vectors(vectorize_text(df, embeddings))\n",
    "        \n",
    "        # Pineconeにアップロード\n",
    "        pinecone.init(api_key=pinecone_api_key, environment=\"us-west1-gcp\")\n",
    "        pinecone_index = pinecone.Index(index_name)\n",
    "        upload_to_pinecone(pinecone_index, vectorized_df)\n",
    "        \n",
    "        # 質問応答システムのセットアップと実行\n",
    "        vectorstore = initialize_vector_store(index_name, embeddings, pinecone_api_key)\n",
    "        qa = setup_qa_system(vectorstore)\n",
    "        \n",
    "        # ユーザーのクエリに対する応答を取得\n",
    "        result = qa({\"query\": query})\n",
    "        \n",
    "        st.write(\"Answer:\", result['result'])\n",
    "\n",
    "if __name__ == \"__main__\":\n",
    "    main()\n"
   ]
  },
  {
   "cell_type": "code",
   "execution_count": null,
   "metadata": {},
   "outputs": [],
   "source": []
  }
 ],
 "metadata": {
  "kernelspec": {
   "display_name": "Python 3",
   "language": "python",
   "name": "python3"
  },
  "language_info": {
   "codemirror_mode": {
    "name": "ipython",
    "version": 3
   },
   "file_extension": ".py",
   "mimetype": "text/x-python",
   "name": "python",
   "nbconvert_exporter": "python",
   "pygments_lexer": "ipython3",
   "version": "3.9.6"
  }
 },
 "nbformat": 4,
 "nbformat_minor": 2
}
